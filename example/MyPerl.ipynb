{
 "cells": [
  {
   "cell_type": "code",
   "execution_count": 3,
   "id": "02e448fb",
   "metadata": {},
   "outputs": [
    {
     "name": "stdout",
     "output_type": "stream",
     "text": [
      "[MyPerl] Info:file h:\\Jupyter\\ipynb\\MyPerl\\src/test.pl created successfully\n",
      "[MyPerl] Info:The process :h:\\Jupyter\\ipynb\\MyPerl\\src/test.pl\n",
      "[MyPerl] Info:perl -- h:\\Jupyter\\ipynb\\MyPerl\\src/test.pl \n"
     ]
    },
    {
     "data": {
      "text/html": [
       "Hello,world!\r\n"
      ]
     },
     "metadata": {
      "text/html": {}
     },
     "output_type": "display_data"
    },
    {
     "name": "stdout",
     "output_type": "stream",
     "text": [
      "[MyPerl] Info:The process end:11068\n"
     ]
    }
   ],
   "source": [
    "##%log:1\n",
    "##%overwritefile\n",
    "##%file:src/test.pl\n",
    "## %switches:-V\n",
    "##%outputtype:text/html\n",
    "print (\"Hello,world!\\n\")"
   ]
  }
 ],
 "metadata": {
  "interpreter": {
   "hash": "790d66b9a7d127603100553f17b106d8e2aaf6777ced79107fc93b8d84add8f0"
  },
  "kernelspec": {
   "display_name": "MyPerl",
   "language": "perl",
   "name": "myperl"
  },
  "language_info": {
   "codemirror_mode": {
    "name": "ipython",
    "version": 3
   },
   "file_extension": ".pl",
   "mimetype": "text/perl",
   "name": "Perl",
   "nbconvert_exporter": "Perl",
   "pygments_lexer": "ipython3",
   "version": "3.9.6"
  },
  "widgets": {
   "application/vnd.jupyter.widget-state+json": {
    "state": {},
    "version_major": 2,
    "version_minor": 0
   }
  }
 },
 "nbformat": 4,
 "nbformat_minor": 5
}
